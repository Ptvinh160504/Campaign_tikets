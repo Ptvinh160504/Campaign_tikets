{
 "cells": [
  {
   "cell_type": "code",
   "execution_count": 1,
   "metadata": {},
   "outputs": [],
   "source": [
    "import pandas as pd"
   ]
  },
  {
   "cell_type": "markdown",
   "metadata": {},
   "source": [
    "Đọc file csv device_detail.csv"
   ]
  },
  {
   "cell_type": "code",
   "execution_count": 2,
   "metadata": {},
   "outputs": [],
   "source": [
    "df_device =  pd.read_csv('device_detail.csv')"
   ]
  },
  {
   "cell_type": "code",
   "execution_count": 3,
   "metadata": {},
   "outputs": [
    {
     "data": {
      "text/html": [
       "<div>\n",
       "<style scoped>\n",
       "    .dataframe tbody tr th:only-of-type {\n",
       "        vertical-align: middle;\n",
       "    }\n",
       "\n",
       "    .dataframe tbody tr th {\n",
       "        vertical-align: top;\n",
       "    }\n",
       "\n",
       "    .dataframe thead th {\n",
       "        text-align: right;\n",
       "    }\n",
       "</style>\n",
       "<table border=\"1\" class=\"dataframe\">\n",
       "  <thead>\n",
       "    <tr style=\"text-align: right;\">\n",
       "      <th></th>\n",
       "      <th>device_id</th>\n",
       "      <th>model</th>\n",
       "      <th>platform</th>\n",
       "    </tr>\n",
       "  </thead>\n",
       "  <tbody>\n",
       "    <tr>\n",
       "      <th>0</th>\n",
       "      <td>e099282ee61023d4d74f0bc5fc52aaf4</td>\n",
       "      <td>iphone 10,1</td>\n",
       "      <td>mobile</td>\n",
       "    </tr>\n",
       "    <tr>\n",
       "      <th>1</th>\n",
       "      <td>73cdb5f8f75390f000cc7c6bb1e6e8b8</td>\n",
       "      <td>iphone 13,2</td>\n",
       "      <td>mobile</td>\n",
       "    </tr>\n",
       "    <tr>\n",
       "      <th>2</th>\n",
       "      <td>0ae2db9770681a6df25ff03702a66953</td>\n",
       "      <td>iphone 11,2</td>\n",
       "      <td>mobile</td>\n",
       "    </tr>\n",
       "    <tr>\n",
       "      <th>3</th>\n",
       "      <td>12bd287b5b0d96a0a8cca6b4da1f11b1</td>\n",
       "      <td>iphone 11,6</td>\n",
       "      <td>mobile</td>\n",
       "    </tr>\n",
       "    <tr>\n",
       "      <th>4</th>\n",
       "      <td>94f317e9f31e98c3a7210b4df30de494</td>\n",
       "      <td>Samsung SM-G955F</td>\n",
       "      <td>mobile</td>\n",
       "    </tr>\n",
       "    <tr>\n",
       "      <th>...</th>\n",
       "      <td>...</td>\n",
       "      <td>...</td>\n",
       "      <td>...</td>\n",
       "    </tr>\n",
       "    <tr>\n",
       "      <th>55634</th>\n",
       "      <td>daad2e64bf128800a8e1e8b8e468b42f</td>\n",
       "      <td>iphone 12,5</td>\n",
       "      <td>mobile</td>\n",
       "    </tr>\n",
       "    <tr>\n",
       "      <th>55635</th>\n",
       "      <td>956971df8bb4123f8d731d6a87cd9182</td>\n",
       "      <td>HTC HTC Desire EYE</td>\n",
       "      <td>mobile</td>\n",
       "    </tr>\n",
       "    <tr>\n",
       "      <th>55636</th>\n",
       "      <td>8c9ffed987305e7dc45392c993da7a39</td>\n",
       "      <td>iphone 7,2</td>\n",
       "      <td>mobile</td>\n",
       "    </tr>\n",
       "    <tr>\n",
       "      <th>55637</th>\n",
       "      <td>0b45dcfa140b3029e46e3ce32ef90df0</td>\n",
       "      <td>iphone 10,4</td>\n",
       "      <td>mobile</td>\n",
       "    </tr>\n",
       "    <tr>\n",
       "      <th>55638</th>\n",
       "      <td>ae1a2607e63ab780d561ffc93e5f5e4c</td>\n",
       "      <td>iphone 9,2</td>\n",
       "      <td>mobile</td>\n",
       "    </tr>\n",
       "  </tbody>\n",
       "</table>\n",
       "<p>55639 rows × 3 columns</p>\n",
       "</div>"
      ],
      "text/plain": [
       "                              device_id               model platform\n",
       "0      e099282ee61023d4d74f0bc5fc52aaf4         iphone 10,1   mobile\n",
       "1      73cdb5f8f75390f000cc7c6bb1e6e8b8         iphone 13,2   mobile\n",
       "2      0ae2db9770681a6df25ff03702a66953         iphone 11,2   mobile\n",
       "3      12bd287b5b0d96a0a8cca6b4da1f11b1         iphone 11,6   mobile\n",
       "4      94f317e9f31e98c3a7210b4df30de494    Samsung SM-G955F   mobile\n",
       "...                                 ...                 ...      ...\n",
       "55634  daad2e64bf128800a8e1e8b8e468b42f         iphone 12,5   mobile\n",
       "55635  956971df8bb4123f8d731d6a87cd9182  HTC HTC Desire EYE   mobile\n",
       "55636  8c9ffed987305e7dc45392c993da7a39          iphone 7,2   mobile\n",
       "55637  0b45dcfa140b3029e46e3ce32ef90df0         iphone 10,4   mobile\n",
       "55638  ae1a2607e63ab780d561ffc93e5f5e4c          iphone 9,2   mobile\n",
       "\n",
       "[55639 rows x 3 columns]"
      ]
     },
     "execution_count": 3,
     "metadata": {},
     "output_type": "execute_result"
    }
   ],
   "source": [
    "df_device"
   ]
  },
  {
   "cell_type": "markdown",
   "metadata": {},
   "source": [
    "Lấy giá trị ở cột model với hãng điễn thoại"
   ]
  },
  {
   "cell_type": "code",
   "execution_count": 4,
   "metadata": {},
   "outputs": [
    {
     "name": "stdout",
     "output_type": "stream",
     "text": [
      "         model\n",
      "0       iphone\n",
      "1       iphone\n",
      "2       iphone\n",
      "3       iphone\n",
      "4      Samsung\n",
      "...        ...\n",
      "55634   iphone\n",
      "55635      HTC\n",
      "55636   iphone\n",
      "55637   iphone\n",
      "55638   iphone\n",
      "\n",
      "[55639 rows x 1 columns]\n"
     ]
    }
   ],
   "source": [
    "# Tách chữ trước dấu cách đầu tiên ở cột thứ 2 (index = 1)\n",
    "df_device['model'] = df_device.iloc[:, 1].str.split(' ').str[0]\n",
    "\n",
    "# Hiển thị kết quả\n",
    "print(df_device[['model']])"
   ]
  },
  {
   "cell_type": "code",
   "execution_count": 5,
   "metadata": {},
   "outputs": [
    {
     "data": {
      "text/html": [
       "<div>\n",
       "<style scoped>\n",
       "    .dataframe tbody tr th:only-of-type {\n",
       "        vertical-align: middle;\n",
       "    }\n",
       "\n",
       "    .dataframe tbody tr th {\n",
       "        vertical-align: top;\n",
       "    }\n",
       "\n",
       "    .dataframe thead th {\n",
       "        text-align: right;\n",
       "    }\n",
       "</style>\n",
       "<table border=\"1\" class=\"dataframe\">\n",
       "  <thead>\n",
       "    <tr style=\"text-align: right;\">\n",
       "      <th></th>\n",
       "      <th>device_id</th>\n",
       "      <th>model</th>\n",
       "      <th>platform</th>\n",
       "    </tr>\n",
       "  </thead>\n",
       "  <tbody>\n",
       "    <tr>\n",
       "      <th>0</th>\n",
       "      <td>e099282ee61023d4d74f0bc5fc52aaf4</td>\n",
       "      <td>iphone</td>\n",
       "      <td>mobile</td>\n",
       "    </tr>\n",
       "    <tr>\n",
       "      <th>1</th>\n",
       "      <td>73cdb5f8f75390f000cc7c6bb1e6e8b8</td>\n",
       "      <td>iphone</td>\n",
       "      <td>mobile</td>\n",
       "    </tr>\n",
       "    <tr>\n",
       "      <th>2</th>\n",
       "      <td>0ae2db9770681a6df25ff03702a66953</td>\n",
       "      <td>iphone</td>\n",
       "      <td>mobile</td>\n",
       "    </tr>\n",
       "    <tr>\n",
       "      <th>3</th>\n",
       "      <td>12bd287b5b0d96a0a8cca6b4da1f11b1</td>\n",
       "      <td>iphone</td>\n",
       "      <td>mobile</td>\n",
       "    </tr>\n",
       "    <tr>\n",
       "      <th>4</th>\n",
       "      <td>94f317e9f31e98c3a7210b4df30de494</td>\n",
       "      <td>Samsung</td>\n",
       "      <td>mobile</td>\n",
       "    </tr>\n",
       "    <tr>\n",
       "      <th>...</th>\n",
       "      <td>...</td>\n",
       "      <td>...</td>\n",
       "      <td>...</td>\n",
       "    </tr>\n",
       "    <tr>\n",
       "      <th>55634</th>\n",
       "      <td>daad2e64bf128800a8e1e8b8e468b42f</td>\n",
       "      <td>iphone</td>\n",
       "      <td>mobile</td>\n",
       "    </tr>\n",
       "    <tr>\n",
       "      <th>55635</th>\n",
       "      <td>956971df8bb4123f8d731d6a87cd9182</td>\n",
       "      <td>HTC</td>\n",
       "      <td>mobile</td>\n",
       "    </tr>\n",
       "    <tr>\n",
       "      <th>55636</th>\n",
       "      <td>8c9ffed987305e7dc45392c993da7a39</td>\n",
       "      <td>iphone</td>\n",
       "      <td>mobile</td>\n",
       "    </tr>\n",
       "    <tr>\n",
       "      <th>55637</th>\n",
       "      <td>0b45dcfa140b3029e46e3ce32ef90df0</td>\n",
       "      <td>iphone</td>\n",
       "      <td>mobile</td>\n",
       "    </tr>\n",
       "    <tr>\n",
       "      <th>55638</th>\n",
       "      <td>ae1a2607e63ab780d561ffc93e5f5e4c</td>\n",
       "      <td>iphone</td>\n",
       "      <td>mobile</td>\n",
       "    </tr>\n",
       "  </tbody>\n",
       "</table>\n",
       "<p>55639 rows × 3 columns</p>\n",
       "</div>"
      ],
      "text/plain": [
       "                              device_id    model platform\n",
       "0      e099282ee61023d4d74f0bc5fc52aaf4   iphone   mobile\n",
       "1      73cdb5f8f75390f000cc7c6bb1e6e8b8   iphone   mobile\n",
       "2      0ae2db9770681a6df25ff03702a66953   iphone   mobile\n",
       "3      12bd287b5b0d96a0a8cca6b4da1f11b1   iphone   mobile\n",
       "4      94f317e9f31e98c3a7210b4df30de494  Samsung   mobile\n",
       "...                                 ...      ...      ...\n",
       "55634  daad2e64bf128800a8e1e8b8e468b42f   iphone   mobile\n",
       "55635  956971df8bb4123f8d731d6a87cd9182      HTC   mobile\n",
       "55636  8c9ffed987305e7dc45392c993da7a39   iphone   mobile\n",
       "55637  0b45dcfa140b3029e46e3ce32ef90df0   iphone   mobile\n",
       "55638  ae1a2607e63ab780d561ffc93e5f5e4c   iphone   mobile\n",
       "\n",
       "[55639 rows x 3 columns]"
      ]
     },
     "execution_count": 5,
     "metadata": {},
     "output_type": "execute_result"
    }
   ],
   "source": [
    "df_device"
   ]
  },
  {
   "cell_type": "code",
   "execution_count": 6,
   "metadata": {},
   "outputs": [
    {
     "data": {
      "text/plain": [
       "array(['mobile', 'website'], dtype=object)"
      ]
     },
     "execution_count": 6,
     "metadata": {},
     "output_type": "execute_result"
    }
   ],
   "source": [
    "loc_df = df_device['platform'].unique()\n",
    "loc_df"
   ]
  },
  {
   "cell_type": "markdown",
   "metadata": {},
   "source": [
    "Lọc giá trị duy nhất trong cột model"
   ]
  },
  {
   "cell_type": "code",
   "execution_count": 7,
   "metadata": {},
   "outputs": [
    {
     "data": {
      "text/plain": [
       "array(['iphone', 'Samsung', 'HMD', 'Sony', 'OPPO', 'Google', 'Realme',\n",
       "       'devicemodel', 'Xiaomi', 'Asus', 'HUAWEI', 'Vsmart', 'OnePlus',\n",
       "       'LGE', nan, 'Vivo', 'BlackBerry', 'Oppo', 'h5', 'Gionee', 'Huawei',\n",
       "       'HTC', 'Meizu', 'iPad6,3', 'Lenovo', 'Blackshark', 'iPad7,6',\n",
       "       'iPad5,4', 'iPad5,2', 'Motorola', 'PANTECH', 'BKAV', 'Lemobile',\n",
       "       'Blackberry', 'iPad7,5', 'KYOCERA', 'LENOVO', 'OUKITEL',\n",
       "       'iPad6,12', 'Mobiistar', 'Bkav', 'Alps', 'ZUK', 'Letv', 'iPad6,4',\n",
       "       'WIKO', 'iPad3,4', 'SHARP', 'iPad7,3', 'iPad7,12', 'Mobell',\n",
       "       'iPad7,4', 'Nextbit', 'TCL', 'iPad4,5', 'iPad5,3', 'iPad8,9',\n",
       "       'Razer', 'iPad4,2', 'iPad11,3', 'Zuk', 'iPad6,11', 'ZTE', 'W',\n",
       "       'iPad11,1', 'iPad8,3', 'iPad8,1', 'Essential', 'Revoview', 'Htc',\n",
       "       'iPad5,1', 'Blackview', 'Infinix', 'Smartisan', 'iPad6,7',\n",
       "       'iPad11,4', 'iPad6,8', 'iPad4,1', 'FUJITSU', 'iPod5,1', 'InFocus',\n",
       "       'iPad3,6', 'Coolpad', 'Obi', 'Droi', 'iPad8,5', 'iPad4,4', 'Nubia',\n",
       "       'VNPT', 'BLU', 'Kyocera', 'iPad4,8', 'LeMobile', 'Itel', 'Sharp',\n",
       "       'Vertex', 'Vanzo', 'BullittGroupLimited', 'iPad7,1', 'iPad7,2'],\n",
       "      dtype=object)"
      ]
     },
     "execution_count": 7,
     "metadata": {},
     "output_type": "execute_result"
    }
   ],
   "source": [
    "loc_df_device = df_device['model'].unique()\n",
    "loc_df_device"
   ]
  },
  {
   "cell_type": "markdown",
   "metadata": {},
   "source": [
    "Lọc có báo nhiêu giá trị trong cột OS"
   ]
  },
  {
   "cell_type": "code",
   "execution_count": 8,
   "metadata": {},
   "outputs": [
    {
     "data": {
      "text/html": [
       "<div>\n",
       "<style scoped>\n",
       "    .dataframe tbody tr th:only-of-type {\n",
       "        vertical-align: middle;\n",
       "    }\n",
       "\n",
       "    .dataframe tbody tr th {\n",
       "        vertical-align: top;\n",
       "    }\n",
       "\n",
       "    .dataframe thead th {\n",
       "        text-align: right;\n",
       "    }\n",
       "</style>\n",
       "<table border=\"1\" class=\"dataframe\">\n",
       "  <thead>\n",
       "    <tr style=\"text-align: right;\">\n",
       "      <th></th>\n",
       "      <th>device_id</th>\n",
       "      <th>model</th>\n",
       "      <th>platform</th>\n",
       "      <th>os</th>\n",
       "    </tr>\n",
       "  </thead>\n",
       "  <tbody>\n",
       "    <tr>\n",
       "      <th>0</th>\n",
       "      <td>e099282ee61023d4d74f0bc5fc52aaf4</td>\n",
       "      <td>iphone</td>\n",
       "      <td>mobile</td>\n",
       "      <td>iOS</td>\n",
       "    </tr>\n",
       "    <tr>\n",
       "      <th>1</th>\n",
       "      <td>73cdb5f8f75390f000cc7c6bb1e6e8b8</td>\n",
       "      <td>iphone</td>\n",
       "      <td>mobile</td>\n",
       "      <td>iOS</td>\n",
       "    </tr>\n",
       "    <tr>\n",
       "      <th>2</th>\n",
       "      <td>0ae2db9770681a6df25ff03702a66953</td>\n",
       "      <td>iphone</td>\n",
       "      <td>mobile</td>\n",
       "      <td>iOS</td>\n",
       "    </tr>\n",
       "    <tr>\n",
       "      <th>3</th>\n",
       "      <td>12bd287b5b0d96a0a8cca6b4da1f11b1</td>\n",
       "      <td>iphone</td>\n",
       "      <td>mobile</td>\n",
       "      <td>iOS</td>\n",
       "    </tr>\n",
       "    <tr>\n",
       "      <th>4</th>\n",
       "      <td>94f317e9f31e98c3a7210b4df30de494</td>\n",
       "      <td>Samsung</td>\n",
       "      <td>mobile</td>\n",
       "      <td>Android</td>\n",
       "    </tr>\n",
       "    <tr>\n",
       "      <th>...</th>\n",
       "      <td>...</td>\n",
       "      <td>...</td>\n",
       "      <td>...</td>\n",
       "      <td>...</td>\n",
       "    </tr>\n",
       "    <tr>\n",
       "      <th>55634</th>\n",
       "      <td>daad2e64bf128800a8e1e8b8e468b42f</td>\n",
       "      <td>iphone</td>\n",
       "      <td>mobile</td>\n",
       "      <td>iOS</td>\n",
       "    </tr>\n",
       "    <tr>\n",
       "      <th>55635</th>\n",
       "      <td>956971df8bb4123f8d731d6a87cd9182</td>\n",
       "      <td>HTC</td>\n",
       "      <td>mobile</td>\n",
       "      <td>Android</td>\n",
       "    </tr>\n",
       "    <tr>\n",
       "      <th>55636</th>\n",
       "      <td>8c9ffed987305e7dc45392c993da7a39</td>\n",
       "      <td>iphone</td>\n",
       "      <td>mobile</td>\n",
       "      <td>iOS</td>\n",
       "    </tr>\n",
       "    <tr>\n",
       "      <th>55637</th>\n",
       "      <td>0b45dcfa140b3029e46e3ce32ef90df0</td>\n",
       "      <td>iphone</td>\n",
       "      <td>mobile</td>\n",
       "      <td>iOS</td>\n",
       "    </tr>\n",
       "    <tr>\n",
       "      <th>55638</th>\n",
       "      <td>ae1a2607e63ab780d561ffc93e5f5e4c</td>\n",
       "      <td>iphone</td>\n",
       "      <td>mobile</td>\n",
       "      <td>iOS</td>\n",
       "    </tr>\n",
       "  </tbody>\n",
       "</table>\n",
       "<p>55639 rows × 4 columns</p>\n",
       "</div>"
      ],
      "text/plain": [
       "                              device_id    model platform       os\n",
       "0      e099282ee61023d4d74f0bc5fc52aaf4   iphone   mobile      iOS\n",
       "1      73cdb5f8f75390f000cc7c6bb1e6e8b8   iphone   mobile      iOS\n",
       "2      0ae2db9770681a6df25ff03702a66953   iphone   mobile      iOS\n",
       "3      12bd287b5b0d96a0a8cca6b4da1f11b1   iphone   mobile      iOS\n",
       "4      94f317e9f31e98c3a7210b4df30de494  Samsung   mobile  Android\n",
       "...                                 ...      ...      ...      ...\n",
       "55634  daad2e64bf128800a8e1e8b8e468b42f   iphone   mobile      iOS\n",
       "55635  956971df8bb4123f8d731d6a87cd9182      HTC   mobile  Android\n",
       "55636  8c9ffed987305e7dc45392c993da7a39   iphone   mobile      iOS\n",
       "55637  0b45dcfa140b3029e46e3ce32ef90df0   iphone   mobile      iOS\n",
       "55638  ae1a2607e63ab780d561ffc93e5f5e4c   iphone   mobile      iOS\n",
       "\n",
       "[55639 rows x 4 columns]"
      ]
     },
     "execution_count": 8,
     "metadata": {},
     "output_type": "execute_result"
    }
   ],
   "source": [
    "df_device['os'] = df_device['model'].apply(\n",
    "    lambda x: 'Unknown' if pd.isna(x)\n",
    "    else ('iOS' if str(x).lower().startswith('i') else 'Android')\n",
    ")\n",
    "df_device"
   ]
  },
  {
   "cell_type": "code",
   "execution_count": 9,
   "metadata": {},
   "outputs": [
    {
     "data": {
      "text/plain": [
       "array(['iOS', 'Android', 'Unknown'], dtype=object)"
      ]
     },
     "execution_count": 9,
     "metadata": {},
     "output_type": "execute_result"
    }
   ],
   "source": [
    "loc_i = df_device['os'].unique()\n",
    "loc_i"
   ]
  },
  {
   "cell_type": "markdown",
   "metadata": {},
   "source": [
    "Giá trị unknow của cột model mang giá trị naN"
   ]
  },
  {
   "cell_type": "code",
   "execution_count": 10,
   "metadata": {},
   "outputs": [
    {
     "data": {
      "text/html": [
       "<div>\n",
       "<style scoped>\n",
       "    .dataframe tbody tr th:only-of-type {\n",
       "        vertical-align: middle;\n",
       "    }\n",
       "\n",
       "    .dataframe tbody tr th {\n",
       "        vertical-align: top;\n",
       "    }\n",
       "\n",
       "    .dataframe thead th {\n",
       "        text-align: right;\n",
       "    }\n",
       "</style>\n",
       "<table border=\"1\" class=\"dataframe\">\n",
       "  <thead>\n",
       "    <tr style=\"text-align: right;\">\n",
       "      <th></th>\n",
       "      <th>device_id</th>\n",
       "      <th>model</th>\n",
       "      <th>platform</th>\n",
       "      <th>os</th>\n",
       "    </tr>\n",
       "  </thead>\n",
       "  <tbody>\n",
       "    <tr>\n",
       "      <th>257</th>\n",
       "      <td>294d37262b73931192bdd1bfb6b85ddc</td>\n",
       "      <td>NaN</td>\n",
       "      <td>mobile</td>\n",
       "      <td>Unknown</td>\n",
       "    </tr>\n",
       "    <tr>\n",
       "      <th>1326</th>\n",
       "      <td>02625f199cbf45c4d57a780cdfaab917</td>\n",
       "      <td>NaN</td>\n",
       "      <td>mobile</td>\n",
       "      <td>Unknown</td>\n",
       "    </tr>\n",
       "    <tr>\n",
       "      <th>1337</th>\n",
       "      <td>95e187f8764cc90e2580dbba7f11caa9</td>\n",
       "      <td>NaN</td>\n",
       "      <td>mobile</td>\n",
       "      <td>Unknown</td>\n",
       "    </tr>\n",
       "    <tr>\n",
       "      <th>1485</th>\n",
       "      <td>dd328c1f280dd86cd5c8b9e4cd97af08</td>\n",
       "      <td>NaN</td>\n",
       "      <td>mobile</td>\n",
       "      <td>Unknown</td>\n",
       "    </tr>\n",
       "    <tr>\n",
       "      <th>1652</th>\n",
       "      <td>41d79a1379fc171206ca5503a6f5f923</td>\n",
       "      <td>NaN</td>\n",
       "      <td>mobile</td>\n",
       "      <td>Unknown</td>\n",
       "    </tr>\n",
       "    <tr>\n",
       "      <th>...</th>\n",
       "      <td>...</td>\n",
       "      <td>...</td>\n",
       "      <td>...</td>\n",
       "      <td>...</td>\n",
       "    </tr>\n",
       "    <tr>\n",
       "      <th>54248</th>\n",
       "      <td>008ab3b7b1ef2170d10d8ccccd75fa07</td>\n",
       "      <td>NaN</td>\n",
       "      <td>mobile</td>\n",
       "      <td>Unknown</td>\n",
       "    </tr>\n",
       "    <tr>\n",
       "      <th>54364</th>\n",
       "      <td>482a0cddc5d6d5e94d8398cdfd461f30</td>\n",
       "      <td>NaN</td>\n",
       "      <td>mobile</td>\n",
       "      <td>Unknown</td>\n",
       "    </tr>\n",
       "    <tr>\n",
       "      <th>55050</th>\n",
       "      <td>a4762acfe9626ae8e31c7c42d43cb851</td>\n",
       "      <td>NaN</td>\n",
       "      <td>mobile</td>\n",
       "      <td>Unknown</td>\n",
       "    </tr>\n",
       "    <tr>\n",
       "      <th>55089</th>\n",
       "      <td>416984b3b196f526980516a5a9eee652</td>\n",
       "      <td>NaN</td>\n",
       "      <td>mobile</td>\n",
       "      <td>Unknown</td>\n",
       "    </tr>\n",
       "    <tr>\n",
       "      <th>55338</th>\n",
       "      <td>34c891031f73d66ff7fa29fe844a5997</td>\n",
       "      <td>NaN</td>\n",
       "      <td>mobile</td>\n",
       "      <td>Unknown</td>\n",
       "    </tr>\n",
       "  </tbody>\n",
       "</table>\n",
       "<p>120 rows × 4 columns</p>\n",
       "</div>"
      ],
      "text/plain": [
       "                              device_id model platform       os\n",
       "257    294d37262b73931192bdd1bfb6b85ddc   NaN   mobile  Unknown\n",
       "1326   02625f199cbf45c4d57a780cdfaab917   NaN   mobile  Unknown\n",
       "1337   95e187f8764cc90e2580dbba7f11caa9   NaN   mobile  Unknown\n",
       "1485   dd328c1f280dd86cd5c8b9e4cd97af08   NaN   mobile  Unknown\n",
       "1652   41d79a1379fc171206ca5503a6f5f923   NaN   mobile  Unknown\n",
       "...                                 ...   ...      ...      ...\n",
       "54248  008ab3b7b1ef2170d10d8ccccd75fa07   NaN   mobile  Unknown\n",
       "54364  482a0cddc5d6d5e94d8398cdfd461f30   NaN   mobile  Unknown\n",
       "55050  a4762acfe9626ae8e31c7c42d43cb851   NaN   mobile  Unknown\n",
       "55089  416984b3b196f526980516a5a9eee652   NaN   mobile  Unknown\n",
       "55338  34c891031f73d66ff7fa29fe844a5997   NaN   mobile  Unknown\n",
       "\n",
       "[120 rows x 4 columns]"
      ]
     },
     "execution_count": 10,
     "metadata": {},
     "output_type": "execute_result"
    }
   ],
   "source": [
    "unknown = df_device[df_device['os'] == 'Unknown']\n",
    "unknown"
   ]
  },
  {
   "cell_type": "markdown",
   "metadata": {},
   "source": [
    "Với giá trị ở cột platform thì có bao nhiêu dòng dữ liệu theo platform websites"
   ]
  },
  {
   "cell_type": "code",
   "execution_count": 11,
   "metadata": {},
   "outputs": [
    {
     "data": {
      "text/html": [
       "<div>\n",
       "<style scoped>\n",
       "    .dataframe tbody tr th:only-of-type {\n",
       "        vertical-align: middle;\n",
       "    }\n",
       "\n",
       "    .dataframe tbody tr th {\n",
       "        vertical-align: top;\n",
       "    }\n",
       "\n",
       "    .dataframe thead th {\n",
       "        text-align: right;\n",
       "    }\n",
       "</style>\n",
       "<table border=\"1\" class=\"dataframe\">\n",
       "  <thead>\n",
       "    <tr style=\"text-align: right;\">\n",
       "      <th></th>\n",
       "      <th>device_id</th>\n",
       "      <th>model</th>\n",
       "      <th>platform</th>\n",
       "      <th>os</th>\n",
       "    </tr>\n",
       "  </thead>\n",
       "  <tbody>\n",
       "    <tr>\n",
       "      <th>302</th>\n",
       "      <td>a04ebbb12d80f3b5b3950bcb6316d97e</td>\n",
       "      <td>h5</td>\n",
       "      <td>website</td>\n",
       "      <td>Android</td>\n",
       "    </tr>\n",
       "    <tr>\n",
       "      <th>336</th>\n",
       "      <td>66e7bf213a9b18c34a3714a2132180ba</td>\n",
       "      <td>h5</td>\n",
       "      <td>website</td>\n",
       "      <td>Android</td>\n",
       "    </tr>\n",
       "    <tr>\n",
       "      <th>418</th>\n",
       "      <td>ed1a227a975e77234cf0ac3f7bca8085</td>\n",
       "      <td>h5</td>\n",
       "      <td>website</td>\n",
       "      <td>Android</td>\n",
       "    </tr>\n",
       "    <tr>\n",
       "      <th>487</th>\n",
       "      <td>3156086a1f1b962a54be94d6ca6225be</td>\n",
       "      <td>h5</td>\n",
       "      <td>website</td>\n",
       "      <td>Android</td>\n",
       "    </tr>\n",
       "    <tr>\n",
       "      <th>605</th>\n",
       "      <td>ee4b039a812c5981617cfecfda26e069</td>\n",
       "      <td>h5</td>\n",
       "      <td>website</td>\n",
       "      <td>Android</td>\n",
       "    </tr>\n",
       "    <tr>\n",
       "      <th>...</th>\n",
       "      <td>...</td>\n",
       "      <td>...</td>\n",
       "      <td>...</td>\n",
       "      <td>...</td>\n",
       "    </tr>\n",
       "    <tr>\n",
       "      <th>54843</th>\n",
       "      <td>abc3f00508acc6f599e4b256c6bef3f1</td>\n",
       "      <td>h5</td>\n",
       "      <td>website</td>\n",
       "      <td>Android</td>\n",
       "    </tr>\n",
       "    <tr>\n",
       "      <th>54853</th>\n",
       "      <td>bbab12377d2f7887bd4cf27b05be023a</td>\n",
       "      <td>h5</td>\n",
       "      <td>website</td>\n",
       "      <td>Android</td>\n",
       "    </tr>\n",
       "    <tr>\n",
       "      <th>54994</th>\n",
       "      <td>f9628f272860128d97ee7518619b814c</td>\n",
       "      <td>h5</td>\n",
       "      <td>website</td>\n",
       "      <td>Android</td>\n",
       "    </tr>\n",
       "    <tr>\n",
       "      <th>55448</th>\n",
       "      <td>90146b8ee22e687f6e82415dd1fb9c6c</td>\n",
       "      <td>h5</td>\n",
       "      <td>website</td>\n",
       "      <td>Android</td>\n",
       "    </tr>\n",
       "    <tr>\n",
       "      <th>55518</th>\n",
       "      <td>9037e5132d444674e17d8b3a85f06831</td>\n",
       "      <td>h5</td>\n",
       "      <td>website</td>\n",
       "      <td>Android</td>\n",
       "    </tr>\n",
       "  </tbody>\n",
       "</table>\n",
       "<p>542 rows × 4 columns</p>\n",
       "</div>"
      ],
      "text/plain": [
       "                              device_id model platform       os\n",
       "302    a04ebbb12d80f3b5b3950bcb6316d97e    h5  website  Android\n",
       "336    66e7bf213a9b18c34a3714a2132180ba    h5  website  Android\n",
       "418    ed1a227a975e77234cf0ac3f7bca8085    h5  website  Android\n",
       "487    3156086a1f1b962a54be94d6ca6225be    h5  website  Android\n",
       "605    ee4b039a812c5981617cfecfda26e069    h5  website  Android\n",
       "...                                 ...   ...      ...      ...\n",
       "54843  abc3f00508acc6f599e4b256c6bef3f1    h5  website  Android\n",
       "54853  bbab12377d2f7887bd4cf27b05be023a    h5  website  Android\n",
       "54994  f9628f272860128d97ee7518619b814c    h5  website  Android\n",
       "55448  90146b8ee22e687f6e82415dd1fb9c6c    h5  website  Android\n",
       "55518  9037e5132d444674e17d8b3a85f06831    h5  website  Android\n",
       "\n",
       "[542 rows x 4 columns]"
      ]
     },
     "execution_count": 11,
     "metadata": {},
     "output_type": "execute_result"
    }
   ],
   "source": [
    "web = df_device[df_device['platform'] == 'website']\n",
    "web"
   ]
  },
  {
   "cell_type": "markdown",
   "metadata": {},
   "source": [
    "lọc giá trị trong cột model"
   ]
  },
  {
   "cell_type": "code",
   "execution_count": 12,
   "metadata": {},
   "outputs": [
    {
     "data": {
      "text/plain": [
       "array(['h5', nan], dtype=object)"
      ]
     },
     "execution_count": 12,
     "metadata": {},
     "output_type": "execute_result"
    }
   ],
   "source": [
    "loc_h5 = web['model'].unique()\n",
    "loc_h5"
   ]
  },
  {
   "cell_type": "code",
   "execution_count": 13,
   "metadata": {},
   "outputs": [
    {
     "data": {
      "text/html": [
       "<div>\n",
       "<style scoped>\n",
       "    .dataframe tbody tr th:only-of-type {\n",
       "        vertical-align: middle;\n",
       "    }\n",
       "\n",
       "    .dataframe tbody tr th {\n",
       "        vertical-align: top;\n",
       "    }\n",
       "\n",
       "    .dataframe thead th {\n",
       "        text-align: right;\n",
       "    }\n",
       "</style>\n",
       "<table border=\"1\" class=\"dataframe\">\n",
       "  <thead>\n",
       "    <tr style=\"text-align: right;\">\n",
       "      <th></th>\n",
       "      <th>device_id</th>\n",
       "      <th>model</th>\n",
       "      <th>platform</th>\n",
       "      <th>os</th>\n",
       "    </tr>\n",
       "  </thead>\n",
       "  <tbody>\n",
       "    <tr>\n",
       "      <th>0</th>\n",
       "      <td>e099282ee61023d4d74f0bc5fc52aaf4</td>\n",
       "      <td>iphone</td>\n",
       "      <td>mobile</td>\n",
       "      <td>iOS</td>\n",
       "    </tr>\n",
       "    <tr>\n",
       "      <th>1</th>\n",
       "      <td>73cdb5f8f75390f000cc7c6bb1e6e8b8</td>\n",
       "      <td>iphone</td>\n",
       "      <td>mobile</td>\n",
       "      <td>iOS</td>\n",
       "    </tr>\n",
       "    <tr>\n",
       "      <th>2</th>\n",
       "      <td>0ae2db9770681a6df25ff03702a66953</td>\n",
       "      <td>iphone</td>\n",
       "      <td>mobile</td>\n",
       "      <td>iOS</td>\n",
       "    </tr>\n",
       "    <tr>\n",
       "      <th>3</th>\n",
       "      <td>12bd287b5b0d96a0a8cca6b4da1f11b1</td>\n",
       "      <td>iphone</td>\n",
       "      <td>mobile</td>\n",
       "      <td>iOS</td>\n",
       "    </tr>\n",
       "    <tr>\n",
       "      <th>4</th>\n",
       "      <td>94f317e9f31e98c3a7210b4df30de494</td>\n",
       "      <td>Samsung</td>\n",
       "      <td>mobile</td>\n",
       "      <td>Android</td>\n",
       "    </tr>\n",
       "    <tr>\n",
       "      <th>...</th>\n",
       "      <td>...</td>\n",
       "      <td>...</td>\n",
       "      <td>...</td>\n",
       "      <td>...</td>\n",
       "    </tr>\n",
       "    <tr>\n",
       "      <th>55634</th>\n",
       "      <td>daad2e64bf128800a8e1e8b8e468b42f</td>\n",
       "      <td>iphone</td>\n",
       "      <td>mobile</td>\n",
       "      <td>iOS</td>\n",
       "    </tr>\n",
       "    <tr>\n",
       "      <th>55635</th>\n",
       "      <td>956971df8bb4123f8d731d6a87cd9182</td>\n",
       "      <td>HTC</td>\n",
       "      <td>mobile</td>\n",
       "      <td>Android</td>\n",
       "    </tr>\n",
       "    <tr>\n",
       "      <th>55636</th>\n",
       "      <td>8c9ffed987305e7dc45392c993da7a39</td>\n",
       "      <td>iphone</td>\n",
       "      <td>mobile</td>\n",
       "      <td>iOS</td>\n",
       "    </tr>\n",
       "    <tr>\n",
       "      <th>55637</th>\n",
       "      <td>0b45dcfa140b3029e46e3ce32ef90df0</td>\n",
       "      <td>iphone</td>\n",
       "      <td>mobile</td>\n",
       "      <td>iOS</td>\n",
       "    </tr>\n",
       "    <tr>\n",
       "      <th>55638</th>\n",
       "      <td>ae1a2607e63ab780d561ffc93e5f5e4c</td>\n",
       "      <td>iphone</td>\n",
       "      <td>mobile</td>\n",
       "      <td>iOS</td>\n",
       "    </tr>\n",
       "  </tbody>\n",
       "</table>\n",
       "<p>55639 rows × 4 columns</p>\n",
       "</div>"
      ],
      "text/plain": [
       "                              device_id    model platform       os\n",
       "0      e099282ee61023d4d74f0bc5fc52aaf4   iphone   mobile      iOS\n",
       "1      73cdb5f8f75390f000cc7c6bb1e6e8b8   iphone   mobile      iOS\n",
       "2      0ae2db9770681a6df25ff03702a66953   iphone   mobile      iOS\n",
       "3      12bd287b5b0d96a0a8cca6b4da1f11b1   iphone   mobile      iOS\n",
       "4      94f317e9f31e98c3a7210b4df30de494  Samsung   mobile  Android\n",
       "...                                 ...      ...      ...      ...\n",
       "55634  daad2e64bf128800a8e1e8b8e468b42f   iphone   mobile      iOS\n",
       "55635  956971df8bb4123f8d731d6a87cd9182      HTC   mobile  Android\n",
       "55636  8c9ffed987305e7dc45392c993da7a39   iphone   mobile      iOS\n",
       "55637  0b45dcfa140b3029e46e3ce32ef90df0   iphone   mobile      iOS\n",
       "55638  ae1a2607e63ab780d561ffc93e5f5e4c   iphone   mobile      iOS\n",
       "\n",
       "[55639 rows x 4 columns]"
      ]
     },
     "execution_count": 13,
     "metadata": {},
     "output_type": "execute_result"
    }
   ],
   "source": [
    "df_device"
   ]
  },
  {
   "cell_type": "markdown",
   "metadata": {},
   "source": [
    "vẽ biểu đồ pie biểu diễn phần trăng của IOS và ANDROID"
   ]
  },
  {
   "cell_type": "code",
   "execution_count": 14,
   "metadata": {},
   "outputs": [
    {
     "data": {
      "image/png": "[encoded data removed]",
      "text/plain": [
       "<Figure size 600x600 with 1 Axes>"
      ]
     },
     "metadata": {},
     "output_type": "display_data"
    }
   ],
   "source": [
    "import matplotlib.pyplot as plt\n",
    "\n",
    "# dem so luong moi gia tri cot os\n",
    "count_OS = df_device['os'].value_counts()\n",
    "\n",
    "# ve bieu do\n",
    "plt.figure(figsize=(6, 6))\n",
    "\n",
    "plt.pie(count_OS, labels=count_OS.index, autopct='%1.1f%%', startangle=140)\n",
    "plt.title('Tir lệ của hệ điều hành (IOS/Android)')\n",
    "plt.axis('equal') \n",
    "plt.show()"
   ]
  },
  {
   "cell_type": "markdown",
   "metadata": {},
   "source": [
    "vẽ treemap biểu diễn thị phần hãng điện thoại"
   ]
  },
  {
   "cell_type": "code",
   "execution_count": 15,
   "metadata": {},
   "outputs": [
    {
     "name": "stdout",
     "output_type": "stream",
     "text": [
      "Đã lưu file treemap_device_tho.csv\n"
     ]
    }
   ],
   "source": [
    "df_device.to_csv(\"treemap_device_tho.csv\", index=False)\n",
    "\n",
    "print(\"Đã lưu file treemap_device_tho.csv\")"
   ]
  },
  {
   "cell_type": "code",
   "execution_count": 16,
   "metadata": {},
   "outputs": [
    {
     "data": {
      "application/vnd.plotly.v1+json": {
       "config": {
        "plotlyServerURL": "https://plot.ly"
       },
       "data": [
        {
         "branchvalues": "total",
         "domain": {
          "x": [
           0,
           1
          ],
          "y": [
           0,
           1
          ]
         },
         "hovertemplate": "labels=%{label}<br>count=%{value}<br>parent=%{parent}<br>id=%{id}<extra></extra>",
         "ids": [
          "iphone",
          "Samsung",
          "Xiaomi",
          "devicemodel",
          "OPPO",
          "HUAWEI",
          "h5",
          "Sony",
          "HMD",
          "Vivo",
          "Vsmart",
          "Asus",
          "LGE",
          "Realme",
          "Google",
          "HTC",
          "OnePlus",
          "Oppo",
          "BlackBerry",
          "Meizu",
          "Huawei",
          "Blackshark",
          "Motorola",
          "iPad7,5",
          "BKAV",
          "iPad5,4",
          "Gionee",
          "Mobiistar",
          "WIKO",
          "SHARP",
          "iPad7,4",
          "iPad7,6",
          "iPad6,12",
          "LENOVO",
          "iPad5,3",
          "iPad5,2",
          "iPad7,3",
          "iPad6,11",
          "iPad6,3",
          "PANTECH",
          "iPad11,1",
          "iPad4,2",
          "Blackberry",
          "Nubia",
          "iPad6,4",
          "Lenovo",
          "Essential",
          "iPad4,1",
          "iPad4,8",
          "iPad5,1",
          "Bkav",
          "Letv",
          "Itel",
          "iPad8,1",
          "Lemobile",
          "KYOCERA",
          "W",
          "iPad4,5",
          "TCL",
          "Htc",
          "Coolpad",
          "InFocus",
          "iPad11,3",
          "ZUK",
          "Alps",
          "Mobell",
          "iPad4,4",
          "Sharp",
          "iPad3,6",
          "iPad8,3",
          "iPad8,9",
          "Razer",
          "Nextbit",
          "iPad3,4",
          "iPad7,12",
          "OUKITEL",
          "ZTE",
          "Zuk",
          "Smartisan",
          "iPad11,4",
          "iPad6,7",
          "Revoview",
          "Blackview",
          "Obi",
          "iPad6,8",
          "FUJITSU",
          "iPod5,1",
          "Infinix",
          "VNPT",
          "Droi",
          "iPad8,5",
          "Kyocera",
          "BLU",
          "LeMobile",
          "Vertex",
          "Vanzo",
          "BullittGroupLimited",
          "iPad7,1",
          "iPad7,2"
         ],
         "labels": [
          "iphone",
          "Samsung",
          "Xiaomi",
          "devicemodel",
          "OPPO",
          "HUAWEI",
          "h5",
          "Sony",
          "HMD",
          "Vivo",
          "Vsmart",
          "Asus",
          "LGE",
          "Realme",
          "Google",
          "HTC",
          "OnePlus",
          "Oppo",
          "BlackBerry",
          "Meizu",
          "Huawei",
          "Blackshark",
          "Motorola",
          "iPad7,5",
          "BKAV",
          "iPad5,4",
          "Gionee",
          "Mobiistar",
          "WIKO",
          "SHARP",
          "iPad7,4",
          "iPad7,6",
          "iPad6,12",
          "LENOVO",
          "iPad5,3",
          "iPad5,2",
          "iPad7,3",
          "iPad6,11",
          "iPad6,3",
          "PANTECH",
          "iPad11,1",
          "iPad4,2",
          "Blackberry",
          "Nubia",
          "iPad6,4",
          "Lenovo",
          "Essential",
          "iPad4,1",
          "iPad4,8",
          "iPad5,1",
          "Bkav",
          "Letv",
          "Itel",
          "iPad8,1",
          "Lemobile",
          "KYOCERA",
          "W",
          "iPad4,5",
          "TCL",
          "Htc",
          "Coolpad",
          "InFocus",
          "iPad11,3",
          "ZUK",
          "Alps",
          "Mobell",
          "iPad4,4",
          "Sharp",
          "iPad3,6",
          "iPad8,3",
          "iPad8,9",
          "Razer",
          "Nextbit",
          "iPad3,4",
          "iPad7,12",
          "OUKITEL",
          "ZTE",
          "Zuk",
          "Smartisan",
          "iPad11,4",
          "iPad6,7",
          "Revoview",
          "Blackview",
          "Obi",
          "iPad6,8",
          "FUJITSU",
          "iPod5,1",
          "Infinix",
          "VNPT",
          "Droi",
          "iPad8,5",
          "Kyocera",
          "BLU",
          "LeMobile",
          "Vertex",
          "Vanzo",
          "BullittGroupLimited",
          "iPad7,1",
          "iPad7,2"
         ],
         "name": "",
         "parents": [
          "",
          "",
          "",
          "",
          "",
          "",
          "",
          "",
          "",
          "",
          "",
          "",
          "",
          "",
          "",
          "",
          "",
          "",
          "",
          "",
          "",
          "",
          "",
          "",
          "",
          "",
          "",
          "",
          "",
          "",
          "",
          "",
          "",
          "",
          "",
          "",
          "",
          "",
          "",
          "",
          "",
          "",
          "",
          "",
          "",
          "",
          "",
          "",
          "",
          "",
          "",
          "",
          "",
          "",
          "",
          "",
          "",
          "",
          "",
          "",
          "",
          "",
          "",
          "",
          "",
          "",
          "",
          "",
          "",
          "",
          "",
          "",
          "",
          "",
          "",
          "",
          "",
          "",
          "",
          "",
          "",
          "",
          "",
          "",
          "",
          "",
          "",
          "",
          "",
          "",
          "",
          "",
          "",
          "",
          "",
          "",
          "",
          "",
          ""
         ],
         "type": "treemap",
         "values": {
          "bdata": "AAAAAABf4UAAAAAAAMzCQAAAAAAABKZAAAAAAACQmEAAAAAAAEyYQAAAAAAASI1AAAAAAADogEAAAAAAAOB+QAAAAAAA0HlAAAAAAABAckAAAAAAAEBwQAAAAAAAYGtAAAAAAACAZEAAAAAAACBgQAAAAAAAwF5AAAAAAAAAXkAAAAAAAMBVQAAAAAAAQFRAAAAAAACAS0AAAAAAAIBIQAAAAAAAgEJAAAAAAAAAOkAAAAAAAAA0QAAAAAAAADJAAAAAAAAAMkAAAAAAAAAxQAAAAAAAADBAAAAAAAAALkAAAAAAAAAoQAAAAAAAAChAAAAAAAAAJkAAAAAAAAAkQAAAAAAAACRAAAAAAAAAJEAAAAAAAAAiQAAAAAAAACBAAAAAAAAAIEAAAAAAAAAcQAAAAAAAABxAAAAAAAAAGEAAAAAAAAAYQAAAAAAAABhAAAAAAAAAGEAAAAAAAAAYQAAAAAAAABRAAAAAAAAAFEAAAAAAAAAUQAAAAAAAABRAAAAAAAAAEEAAAAAAAAAQQAAAAAAAABBAAAAAAAAAEEAAAAAAAAAQQAAAAAAAABBAAAAAAAAACEAAAAAAAAAIQAAAAAAAAAhAAAAAAAAACEAAAAAAAAAIQAAAAAAAAABAAAAAAAAAAEAAAAAAAAAAQAAAAAAAAABAAAAAAAAAAEAAAAAAAAAAQAAAAAAAAABAAAAAAAAAAEAAAAAAAAAAQAAAAAAAAABAAAAAAAAA8D8AAAAAAADwPwAAAAAAAPA/AAAAAAAA8D8AAAAAAADwPwAAAAAAAPA/AAAAAAAA8D8AAAAAAADwPwAAAAAAAPA/AAAAAAAA8D8AAAAAAADwPwAAAAAAAPA/AAAAAAAA8D8AAAAAAADwPwAAAAAAAPA/AAAAAAAA8D8AAAAAAADwPwAAAAAAAPA/AAAAAAAA8D8AAAAAAADwPwAAAAAAAPA/AAAAAAAA8D8AAAAAAADwPwAAAAAAAPA/AAAAAAAA8D8AAAAAAADwPwAAAAAAAPA/AAAAAAAA8D8AAAAAAADwPwAAAAAAAPA/",
          "dtype": "f8"
         }
        }
       ],
       "layout": {
        "legend": {
         "tracegroupgap": 0
        },
        "template": {
         "data": {
          "bar": [
           {
            "error_x": {
             "color": "#2a3f5f"
            },
            "error_y": {
             "color": "#2a3f5f"
            },
            "marker": {
             "line": {
              "color": "#E5ECF6",
              "width": 0.5
             },
             "pattern": {
              "fillmode": "overlay",
              "size": 10,
              "solidity": 0.2
             }
            },
            "type": "bar"
           }
          ],
          "barpolar": [
           {
            "marker": {
             "line": {
              "color": "#E5ECF6",
              "width": 0.5
             },
             "pattern": {
              "fillmode": "overlay",
              "size": 10,
              "solidity": 0.2
             }
            },
            "type": "barpolar"
           }
          ],
          "carpet": [
           {
            "aaxis": {
             "endlinecolor": "#2a3f5f",
             "gridcolor": "white",
             "linecolor": "white",
             "minorgridcolor": "white",
             "startlinecolor": "#2a3f5f"
            },
            "baxis": {
             "endlinecolor": "#2a3f5f",
             "gridcolor": "white",
             "linecolor": "white",
             "minorgridcolor": "white",
             "startlinecolor": "#2a3f5f"
            },
            "type": "carpet"
           }
          ],
          "choropleth": [
           {
            "colorbar": {
             "outlinewidth": 0,
             "ticks": ""
            },
            "type": "choropleth"
           }
          ],
          "contour": [
           {
            "colorbar": {
             "outlinewidth": 0,
             "ticks": ""
            },
            "colorscale": [
             [
              0,
              "#0d0887"
             ],
             [
              0.1111111111111111,
              "#46039f"
             ],
             [
              0.2222222222222222,
              "#7201a8"
             ],
             [
              0.3333333333333333,
              "#9c179e"
             ],
             [
              0.4444444444444444,
              "#bd3786"
             ],
             [
              0.5555555555555556,
              "#d8576b"
             ],
             [
              0.6666666666666666,
              "#ed7953"
             ],
             [
              0.7777777777777778,
              "#fb9f3a"
             ],
             [
              0.8888888888888888,
              "#fdca26"
             ],
             [
              1,
              "#f0f921"
             ]
            ],
            "type": "contour"
           }
          ],
          "contourcarpet": [
           {
            "colorbar": {
             "outlinewidth": 0,
             "ticks": ""
            },
            "type": "contourcarpet"
           }
          ],
          "heatmap": [
           {
            "colorbar": {
             "outlinewidth": 0,
             "ticks": ""
            },
            "colorscale": [
             [
              0,
              "#0d0887"
             ],
             [
              0.1111111111111111,
              "#46039f"
             ],
             [
              0.2222222222222222,
              "#7201a8"
             ],
             [
              0.3333333333333333,
              "#9c179e"
             ],
             [
              0.4444444444444444,
              "#bd3786"
             ],
             [
              0.5555555555555556,
              "#d8576b"
             ],
             [
              0.6666666666666666,
              "#ed7953"
             ],
             [
              0.7777777777777778,
              "#fb9f3a"
             ],
             [
              0.8888888888888888,
              "#fdca26"
             ],
             [
              1,
              "#f0f921"
             ]
            ],
            "type": "heatmap"
           }
          ],
          "histogram": [
           {
            "marker": {
             "pattern": {
              "fillmode": "overlay",
              "size": 10,
              "solidity": 0.2
             }
            },
            "type": "histogram"
           }
          ],
          "histogram2d": [
           {
            "colorbar": {
             "outlinewidth": 0,
             "ticks": ""
            },
            "colorscale": [
             [
              0,
              "#0d0887"
             ],
             [
              0.1111111111111111,
              "#46039f"
             ],
             [
              0.2222222222222222,
              "#7201a8"
             ],
             [
              0.3333333333333333,
              "#9c179e"
             ],
             [
              0.4444444444444444,
              "#bd3786"
             ],
             [
              0.5555555555555556,
              "#d8576b"
             ],
             [
              0.6666666666666666,
              "#ed7953"
             ],
             [
              0.7777777777777778,
              "#fb9f3a"
             ],
             [
              0.8888888888888888,
              "#fdca26"
             ],
             [
              1,
              "#f0f921"
             ]
            ],
            "type": "histogram2d"
           }
          ],
          "histogram2dcontour": [
           {
            "colorbar": {
             "outlinewidth": 0,
             "ticks": ""
            },
            "colorscale": [
             [
              0,
              "#0d0887"
             ],
             [
              0.1111111111111111,
              "#46039f"
             ],
             [
              0.2222222222222222,
              "#7201a8"
             ],
             [
              0.3333333333333333,
              "#9c179e"
             ],
             [
              0.4444444444444444,
              "#bd3786"
             ],
             [
              0.5555555555555556,
              "#d8576b"
             ],
             [
              0.6666666666666666,
              "#ed7953"
             ],
             [
              0.7777777777777778,
              "#fb9f3a"
             ],
             [
              0.8888888888888888,
              "#fdca26"
             ],
             [
              1,
              "#f0f921"
             ]
            ],
            "type": "histogram2dcontour"
           }
          ],
          "mesh3d": [
           {
            "colorbar": {
             "outlinewidth": 0,
             "ticks": ""
            },
            "type": "mesh3d"
           }
          ],
          "parcoords": [
           {
            "line": {
             "colorbar": {
              "outlinewidth": 0,
              "ticks": ""
             }
            },
            "type": "parcoords"
           }
          ],
          "pie": [
           {
            "automargin": true,
            "type": "pie"
           }
          ],
          "scatter": [
           {
            "fillpattern": {
             "fillmode": "overlay",
             "size": 10,
             "solidity": 0.2
            },
            "type": "scatter"
           }
          ],
          "scatter3d": [
           {
            "line": {
             "colorbar": {
              "outlinewidth": 0,
              "ticks": ""
             }
            },
            "marker": {
             "colorbar": {
              "outlinewidth": 0,
              "ticks": ""
             }
            },
            "type": "scatter3d"
           }
          ],
          "scattercarpet": [
           {
            "marker": {
             "colorbar": {
              "outlinewidth": 0,
              "ticks": ""
             }
            },
            "type": "scattercarpet"
           }
          ],
          "scattergeo": [
           {
            "marker": {
             "colorbar": {
              "outlinewidth": 0,
              "ticks": ""
             }
            },
            "type": "scattergeo"
           }
          ],
          "scattergl": [
           {
            "marker": {
             "colorbar": {
              "outlinewidth": 0,
              "ticks": ""
             }
            },
            "type": "scattergl"
           }
          ],
          "scattermap": [
           {
            "marker": {
             "colorbar": {
              "outlinewidth": 0,
              "ticks": ""
             }
            },
            "type": "scattermap"
           }
          ],
          "scattermapbox": [
           {
            "marker": {
             "colorbar": {
              "outlinewidth": 0,
              "ticks": ""
             }
            },
            "type": "scattermapbox"
           }
          ],
          "scatterpolar": [
           {
            "marker": {
             "colorbar": {
              "outlinewidth": 0,
              "ticks": ""
             }
            },
            "type": "scatterpolar"
           }
          ],
          "scatterpolargl": [
           {
            "marker": {
             "colorbar": {
              "outlinewidth": 0,
              "ticks": ""
             }
            },
            "type": "scatterpolargl"
           }
          ],
          "scatterternary": [
           {
            "marker": {
             "colorbar": {
              "outlinewidth": 0,
              "ticks": ""
             }
            },
            "type": "scatterternary"
           }
          ],
          "surface": [
           {
            "colorbar": {
             "outlinewidth": 0,
             "ticks": ""
            },
            "colorscale": [
             [
              0,
              "#0d0887"
             ],
             [
              0.1111111111111111,
              "#46039f"
             ],
             [
              0.2222222222222222,
              "#7201a8"
             ],
             [
              0.3333333333333333,
              "#9c179e"
             ],
             [
              0.4444444444444444,
              "#bd3786"
             ],
             [
              0.5555555555555556,
              "#d8576b"
             ],
             [
              0.6666666666666666,
              "#ed7953"
             ],
             [
              0.7777777777777778,
              "#fb9f3a"
             ],
             [
              0.8888888888888888,
              "#fdca26"
             ],
             [
              1,
              "#f0f921"
             ]
            ],
            "type": "surface"
           }
          ],
          "table": [
           {
            "cells": {
             "fill": {
              "color": "#EBF0F8"
             },
             "line": {
              "color": "white"
             }
            },
            "header": {
             "fill": {
              "color": "#C8D4E3"
             },
             "line": {
              "color": "white"
             }
            },
            "type": "table"
           }
          ]
         },
         "layout": {
          "annotationdefaults": {
           "arrowcolor": "#2a3f5f",
           "arrowhead": 0,
           "arrowwidth": 1
          },
          "autotypenumbers": "strict",
          "coloraxis": {
           "colorbar": {
            "outlinewidth": 0,
            "ticks": ""
           }
          },
          "colorscale": {
           "diverging": [
            [
             0,
             "#8e0152"
            ],
            [
             0.1,
             "#c51b7d"
            ],
            [
             0.2,
             "#de77ae"
            ],
            [
             0.3,
             "#f1b6da"
            ],
            [
             0.4,
             "#fde0ef"
            ],
            [
             0.5,
             "#f7f7f7"
            ],
            [
             0.6,
             "#e6f5d0"
            ],
            [
             0.7,
             "#b8e186"
            ],
            [
             0.8,
             "#7fbc41"
            ],
            [
             0.9,
             "#4d9221"
            ],
            [
             1,
             "#276419"
            ]
           ],
           "sequential": [
            [
             0,
             "#0d0887"
            ],
            [
             0.1111111111111111,
             "#46039f"
            ],
            [
             0.2222222222222222,
             "#7201a8"
            ],
            [
             0.3333333333333333,
             "#9c179e"
            ],
            [
             0.4444444444444444,
             "#bd3786"
            ],
            [
             0.5555555555555556,
             "#d8576b"
            ],
            [
             0.6666666666666666,
             "#ed7953"
            ],
            [
             0.7777777777777778,
             "#fb9f3a"
            ],
            [
             0.8888888888888888,
             "#fdca26"
            ],
            [
             1,
             "#f0f921"
            ]
           ],
           "sequentialminus": [
            [
             0,
             "#0d0887"
            ],
            [
             0.1111111111111111,
             "#46039f"
            ],
            [
             0.2222222222222222,
             "#7201a8"
            ],
            [
             0.3333333333333333,
             "#9c179e"
            ],
            [
             0.4444444444444444,
             "#bd3786"
            ],
            [
             0.5555555555555556,
             "#d8576b"
            ],
            [
             0.6666666666666666,
             "#ed7953"
            ],
            [
             0.7777777777777778,
             "#fb9f3a"
            ],
            [
             0.8888888888888888,
             "#fdca26"
            ],
            [
             1,
             "#f0f921"
            ]
           ]
          },
          "colorway": [
           "#636efa",
           "#EF553B",
           "#00cc96",
           "#ab63fa",
           "#FFA15A",
           "#19d3f3",
           "#FF6692",
           "#B6E880",
           "#FF97FF",
           "#FECB52"
          ],
          "font": {
           "color": "#2a3f5f"
          },
          "geo": {
           "bgcolor": "white",
           "lakecolor": "white",
           "landcolor": "#E5ECF6",
           "showlakes": true,
           "showland": true,
           "subunitcolor": "white"
          },
          "hoverlabel": {
           "align": "left"
          },
          "hovermode": "closest",
          "mapbox": {
           "style": "light"
          },
          "paper_bgcolor": "white",
          "plot_bgcolor": "#E5ECF6",
          "polar": {
           "angularaxis": {
            "gridcolor": "white",
            "linecolor": "white",
            "ticks": ""
           },
           "bgcolor": "#E5ECF6",
           "radialaxis": {
            "gridcolor": "white",
            "linecolor": "white",
            "ticks": ""
           }
          },
          "scene": {
           "xaxis": {
            "backgroundcolor": "#E5ECF6",
            "gridcolor": "white",
            "gridwidth": 2,
            "linecolor": "white",
            "showbackground": true,
            "ticks": "",
            "zerolinecolor": "white"
           },
           "yaxis": {
            "backgroundcolor": "#E5ECF6",
            "gridcolor": "white",
            "gridwidth": 2,
            "linecolor": "white",
            "showbackground": true,
            "ticks": "",
            "zerolinecolor": "white"
           },
           "zaxis": {
            "backgroundcolor": "#E5ECF6",
            "gridcolor": "white",
            "gridwidth": 2,
            "linecolor": "white",
            "showbackground": true,
            "ticks": "",
            "zerolinecolor": "white"
           }
          },
          "shapedefaults": {
           "line": {
            "color": "#2a3f5f"
           }
          },
          "ternary": {
           "aaxis": {
            "gridcolor": "white",
            "linecolor": "white",
            "ticks": ""
           },
           "baxis": {
            "gridcolor": "white",
            "linecolor": "white",
            "ticks": ""
           },
           "bgcolor": "#E5ECF6",
           "caxis": {
            "gridcolor": "white",
            "linecolor": "white",
            "ticks": ""
           }
          },
          "title": {
           "x": 0.05
          },
          "xaxis": {
           "automargin": true,
           "gridcolor": "white",
           "linecolor": "white",
           "ticks": "",
           "title": {
            "standoff": 15
           },
           "zerolinecolor": "white",
           "zerolinewidth": 2
          },
          "yaxis": {
           "automargin": true,
           "gridcolor": "white",
           "linecolor": "white",
           "ticks": "",
           "title": {
            "standoff": 15
           },
           "zerolinecolor": "white",
           "zerolinewidth": 2
          }
         }
        },
        "title": {
         "text": "Biểu đồ Treemap theo Thiết bị (Model)"
        }
       }
      }
     },
     "metadata": {},
     "output_type": "display_data"
    }
   ],
   "source": [
    "import plotly.express as px\n",
    "\n",
    "# Đếm số lượng thiết bị theo model\n",
    "model_counts = df_device['model'].value_counts().reset_index()\n",
    "model_counts.columns = ['model', 'count']\n",
    "\n",
    "# Vẽ biểu đồ treemap\n",
    "fig = px.treemap(\n",
    "    model_counts,\n",
    "    path=['model'],    # chỉ theo model\n",
    "    values='count',\n",
    "    title='Biểu đồ Treemap theo Thiết bị (Model)'\n",
    ")\n",
    "fig.show()"
   ]
  },
  {
   "cell_type": "markdown",
   "metadata": {},
   "source": [
    "Vẽ biểu đồ top Horizontal bar"
   ]
  },
  {
   "cell_type": "code",
   "execution_count": 22,
   "metadata": {},
   "outputs": [
    {
     "data": {
      "image/png": "[encoded data removed]",
      "text/plain": [
       "<Figure size 1000x600 with 1 Axes>"
      ]
     },
     "metadata": {},
     "output_type": "display_data"
    }
   ],
   "source": [
    "# Đếm số lượng thiết bị theo từng model và lấy top 10\n",
    "model_counts = df_device['model'].value_counts().head(10)\n",
    "\n",
    "# Đảo thứ tự để model nhiều nhất hiển thị ở trên\n",
    "models = model_counts.index[::-1]\n",
    "counts = model_counts.values[::-1]\n",
    "\n",
    "# Vẽ biểu đồ thanh ngang\n",
    "plt.figure(figsize=(10, 6))\n",
    "bars = plt.barh(models, counts, color='skyblue')\n",
    "plt.xlabel('Số lượng thiết bị')\n",
    "plt.ylabel('Model')\n",
    "plt.title('Top 10 Model có số lượng thiết bị nhiều nhất')\n",
    "plt.grid(axis='x', linestyle='--', alpha=0.5)\n",
    "\n",
    "# Thêm số lượng trên mỗi thanh\n",
    "for bar in bars:\n",
    "    width = bar.get_width()\n",
    "    plt.text(width + 1, bar.get_y() + bar.get_height()/2,\n",
    "             str(width), va='center')\n",
    "\n",
    "plt.tight_layout()\n",
    "plt.show()"
   ]
  }
 ],
 "metadata": {
  "kernelspec": {
   "display_name": "Python 3",
   "language": "python",
   "name": "python3"
  },
  "language_info": {
   "codemirror_mode": {
    "name": "ipython",
    "version": 3
   },
   "file_extension": ".py",
   "mimetype": "text/x-python",
   "name": "python",
   "nbconvert_exporter": "python",
   "pygments_lexer": "ipython3",
   "version": "3.13.0b3"
  }
 },
 "nbformat": 4,
 "nbformat_minor": 2
}
